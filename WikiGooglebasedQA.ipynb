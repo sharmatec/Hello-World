{
  "nbformat": 4,
  "nbformat_minor": 0,
  "metadata": {
    "colab": {
      "name": "WikiGooglebasedQA.ipynb",
      "provenance": [],
      "collapsed_sections": [],
      "toc_visible": true,
      "include_colab_link": true
    },
    "kernelspec": {
      "name": "python3",
      "display_name": "Python 3"
    },
    "accelerator": "GPU"
  },
  "cells": [
    {
      "cell_type": "markdown",
      "metadata": {
        "id": "view-in-github",
        "colab_type": "text"
      },
      "source": [
        "<a href=\"https://colab.research.google.com/github/sharmatec/Hello-World/blob/master/WikiGooglebasedQA.ipynb\" target=\"_parent\"><img src=\"https://colab.research.google.com/assets/colab-badge.svg\" alt=\"Open In Colab\"/></a>"
      ]
    },
    {
      "cell_type": "markdown",
      "metadata": {
        "id": "z5flqiHM2eDW",
        "colab_type": "text"
      },
      "source": [
        "Install Wikipedia and Google"
      ]
    },
    {
      "cell_type": "code",
      "metadata": {
        "id": "nFL44JqBbQuV",
        "colab_type": "code",
        "outputId": "e0cb639a-fd55-4f2b-b064-6c100ece018a",
        "colab": {
          "base_uri": "https://localhost:8080/",
          "height": 962
        }
      },
      "source": [
        "!pip install wikipedia\n",
        "!pip install Google-Search-API"
      ],
      "execution_count": 0,
      "outputs": [
        {
          "output_type": "stream",
          "text": [
            "Collecting wikipedia\n",
            "  Downloading https://files.pythonhosted.org/packages/67/35/25e68fbc99e672127cc6fbb14b8ec1ba3dfef035bf1e4c90f78f24a80b7d/wikipedia-1.4.0.tar.gz\n",
            "Requirement already satisfied: beautifulsoup4 in /usr/local/lib/python3.6/dist-packages (from wikipedia) (4.6.3)\n",
            "Requirement already satisfied: requests<3.0.0,>=2.0.0 in /usr/local/lib/python3.6/dist-packages (from wikipedia) (2.21.0)\n",
            "Requirement already satisfied: chardet<3.1.0,>=3.0.2 in /usr/local/lib/python3.6/dist-packages (from requests<3.0.0,>=2.0.0->wikipedia) (3.0.4)\n",
            "Requirement already satisfied: urllib3<1.25,>=1.21.1 in /usr/local/lib/python3.6/dist-packages (from requests<3.0.0,>=2.0.0->wikipedia) (1.24.3)\n",
            "Requirement already satisfied: certifi>=2017.4.17 in /usr/local/lib/python3.6/dist-packages (from requests<3.0.0,>=2.0.0->wikipedia) (2019.11.28)\n",
            "Requirement already satisfied: idna<2.9,>=2.5 in /usr/local/lib/python3.6/dist-packages (from requests<3.0.0,>=2.0.0->wikipedia) (2.8)\n",
            "Building wheels for collected packages: wikipedia\n",
            "  Building wheel for wikipedia (setup.py) ... \u001b[?25l\u001b[?25hdone\n",
            "  Created wheel for wikipedia: filename=wikipedia-1.4.0-cp36-none-any.whl size=11686 sha256=c7de797f8aa217d3a5c46e436b59d9aff4dec67534e868b357bf45b3432b22a9\n",
            "  Stored in directory: /root/.cache/pip/wheels/87/2a/18/4e471fd96d12114d16fe4a446d00c3b38fb9efcb744bd31f4a\n",
            "Successfully built wikipedia\n",
            "Installing collected packages: wikipedia\n",
            "Successfully installed wikipedia-1.4.0\n",
            "Collecting Google-Search-API\n",
            "  Downloading https://files.pythonhosted.org/packages/ca/83/452b9feb69c0ab644e154996e98a180d022e586c397c3e60d823cc2ba6ec/Google_Search_API-1.1.14-py3-none-any.whl\n",
            "Collecting selenium<3.0.0,>=2.44.0\n",
            "\u001b[?25l  Downloading https://files.pythonhosted.org/packages/3f/f8/e46684764161fee7b7d2e0fd9b82d56915438b68e498181dc45183643c82/selenium-2.53.6-py2.py3-none-any.whl (884kB)\n",
            "\u001b[K     |████████████████████████████████| 890kB 14.1MB/s \n",
            "\u001b[?25hCollecting fake-useragent\n",
            "  Downloading https://files.pythonhosted.org/packages/d1/79/af647635d6968e2deb57a208d309f6069d31cb138066d7e821e575112a80/fake-useragent-0.1.11.tar.gz\n",
            "Requirement already satisfied: requests in /usr/local/lib/python3.6/dist-packages (from Google-Search-API) (2.21.0)\n",
            "Requirement already satisfied: future in /usr/local/lib/python3.6/dist-packages (from Google-Search-API) (0.16.0)\n",
            "Requirement already satisfied: beautifulsoup4 in /usr/local/lib/python3.6/dist-packages (from Google-Search-API) (4.6.3)\n",
            "Collecting vcrpy\n",
            "  Downloading https://files.pythonhosted.org/packages/ae/52/a6248969b77176e4264161e809f07403b6135d7114c8a381fc4db9e079c8/vcrpy-4.0.2-py2.py3-none-any.whl\n",
            "Collecting unidecode\n",
            "\u001b[?25l  Downloading https://files.pythonhosted.org/packages/d0/42/d9edfed04228bacea2d824904cae367ee9efd05e6cce7ceaaedd0b0ad964/Unidecode-1.1.1-py2.py3-none-any.whl (238kB)\n",
            "\u001b[K     |████████████████████████████████| 245kB 52.9MB/s \n",
            "\u001b[?25hRequirement already satisfied: chardet<3.1.0,>=3.0.2 in /usr/local/lib/python3.6/dist-packages (from requests->Google-Search-API) (3.0.4)\n",
            "Requirement already satisfied: urllib3<1.25,>=1.21.1 in /usr/local/lib/python3.6/dist-packages (from requests->Google-Search-API) (1.24.3)\n",
            "Requirement already satisfied: idna<2.9,>=2.5 in /usr/local/lib/python3.6/dist-packages (from requests->Google-Search-API) (2.8)\n",
            "Requirement already satisfied: certifi>=2017.4.17 in /usr/local/lib/python3.6/dist-packages (from requests->Google-Search-API) (2019.11.28)\n",
            "Requirement already satisfied: wrapt in /usr/local/lib/python3.6/dist-packages (from vcrpy->Google-Search-API) (1.12.1)\n",
            "Requirement already satisfied: PyYAML in /usr/local/lib/python3.6/dist-packages (from vcrpy->Google-Search-API) (3.13)\n",
            "Requirement already satisfied: six>=1.5 in /usr/local/lib/python3.6/dist-packages (from vcrpy->Google-Search-API) (1.12.0)\n",
            "Collecting yarl; python_version >= \"3.6\"\n",
            "\u001b[?25l  Downloading https://files.pythonhosted.org/packages/95/8f/0209fc5d975f839344c33c822ff2f7ef80f6b1e984673a5a68f960bfa583/yarl-1.4.2-cp36-cp36m-manylinux1_x86_64.whl (252kB)\n",
            "\u001b[K     |████████████████████████████████| 256kB 59.5MB/s \n",
            "\u001b[?25hCollecting multidict>=4.0\n",
            "\u001b[?25l  Downloading https://files.pythonhosted.org/packages/30/2e/3ab2f1fb72571f75013db323a3799d505d99f3bc203513604f1ffb9b7858/multidict-4.7.5-cp36-cp36m-manylinux1_x86_64.whl (148kB)\n",
            "\u001b[K     |████████████████████████████████| 153kB 44.5MB/s \n",
            "\u001b[?25hBuilding wheels for collected packages: fake-useragent\n",
            "  Building wheel for fake-useragent (setup.py) ... \u001b[?25l\u001b[?25hdone\n",
            "  Created wheel for fake-useragent: filename=fake_useragent-0.1.11-cp36-none-any.whl size=13484 sha256=4250ce8ac31467b3dbf103e297cabf2bcac287bd0092eebcb300fd8432f40cab\n",
            "  Stored in directory: /root/.cache/pip/wheels/5e/63/09/d1dc15179f175357d3f5c00cbffbac37f9e8690d80545143ff\n",
            "Successfully built fake-useragent\n",
            "Installing collected packages: selenium, fake-useragent, multidict, yarl, vcrpy, unidecode, Google-Search-API\n",
            "Successfully installed Google-Search-API-1.1.14 fake-useragent-0.1.11 multidict-4.7.5 selenium-2.53.6 unidecode-1.1.1 vcrpy-4.0.2 yarl-1.4.2\n"
          ],
          "name": "stdout"
        },
        {
          "output_type": "display_data",
          "data": {
            "application/vnd.colab-display-data+json": {
              "pip_warning": {
                "packages": [
                  "google"
                ]
              }
            }
          },
          "metadata": {
            "tags": []
          }
        }
      ]
    },
    {
      "cell_type": "markdown",
      "metadata": {
        "id": "PMz0A_wN2nJ4",
        "colab_type": "text"
      },
      "source": [
        "Import Libraries"
      ]
    },
    {
      "cell_type": "code",
      "metadata": {
        "id": "lcRCUSKHsML8",
        "colab_type": "code",
        "colab": {}
      },
      "source": [
        "import unicodedata\n",
        "import nltk\n",
        "from nltk import word_tokenize, pos_tag, ne_chunk, conlltags2tree, tree2conlltags, WordNetLemmatizer\n",
        "from nltk.tokenize import TweetTokenizer\n",
        "from nltk.corpus import stopwords\n",
        "from google import google\n",
        "import wikipedia\n",
        "import collections"
      ],
      "execution_count": 0,
      "outputs": []
    },
    {
      "cell_type": "markdown",
      "metadata": {
        "id": "PB5_80U_2sLK",
        "colab_type": "text"
      },
      "source": [
        "Download NLTK Datasets"
      ]
    },
    {
      "cell_type": "code",
      "metadata": {
        "id": "PROmgpZil51o",
        "colab_type": "code",
        "outputId": "b04744f5-e16d-4ce2-ec83-9b84d88082d2",
        "colab": {
          "base_uri": "https://localhost:8080/",
          "height": 269
        }
      },
      "source": [
        "nltk.download('punkt')\n",
        "nltk.download('averaged_perceptron_tagger')\n",
        "nltk.download('maxent_ne_chunker')\n",
        "nltk.download('words')\n",
        "nltk.download('wordnet')\n",
        "nltk.download('stopwords')"
      ],
      "execution_count": 0,
      "outputs": [
        {
          "output_type": "stream",
          "text": [
            "[nltk_data] Downloading package punkt to /root/nltk_data...\n",
            "[nltk_data]   Unzipping tokenizers/punkt.zip.\n",
            "[nltk_data] Downloading package averaged_perceptron_tagger to\n",
            "[nltk_data]     /root/nltk_data...\n",
            "[nltk_data]   Unzipping taggers/averaged_perceptron_tagger.zip.\n",
            "[nltk_data] Downloading package maxent_ne_chunker to\n",
            "[nltk_data]     /root/nltk_data...\n",
            "[nltk_data]   Unzipping chunkers/maxent_ne_chunker.zip.\n",
            "[nltk_data] Downloading package words to /root/nltk_data...\n",
            "[nltk_data]   Unzipping corpora/words.zip.\n",
            "[nltk_data] Downloading package wordnet to /root/nltk_data...\n",
            "[nltk_data]   Unzipping corpora/wordnet.zip.\n",
            "[nltk_data] Downloading package stopwords to /root/nltk_data...\n",
            "[nltk_data]   Unzipping corpora/stopwords.zip.\n"
          ],
          "name": "stdout"
        },
        {
          "output_type": "execute_result",
          "data": {
            "text/plain": [
              "True"
            ]
          },
          "metadata": {
            "tags": []
          },
          "execution_count": 2
        }
      ]
    },
    {
      "cell_type": "markdown",
      "metadata": {
        "id": "10QO3ZAk2_Qa",
        "colab_type": "text"
      },
      "source": [
        "Cateforize the Question Based on some specific words"
      ]
    },
    {
      "cell_type": "code",
      "metadata": {
        "id": "AXXGOXGDsakn",
        "colab_type": "code",
        "colab": {}
      },
      "source": [
        "def categorize_question(question):\n",
        "\n",
        "  question = question.lower().split()\n",
        "  if question[0] == 'where':\n",
        "    q_category = 'Location'\n",
        "  elif 'year'  in question:\n",
        "    q_category = 'Date'\n",
        "  elif 'country' in question:\n",
        "    q_category = 'Country'\n",
        "  elif question[0] == 'who':\n",
        "    q_category = 'Person'\n",
        "  elif question[0] == 'what':\n",
        "    q_category = 'Definition'\n",
        "  else:\n",
        "    q_category = 'None'\n",
        "\n",
        "  return q_category"
      ],
      "execution_count": 0,
      "outputs": []
    },
    {
      "cell_type": "markdown",
      "metadata": {
        "id": "QhWxgru43Jfj",
        "colab_type": "text"
      },
      "source": [
        "Skip the first two tokens"
      ]
    },
    {
      "cell_type": "code",
      "metadata": {
        "id": "Hg1xOIfHvuiu",
        "colab_type": "code",
        "colab": {}
      },
      "source": [
        "def skip_first_two_tokens(tokens):\n",
        "  new_tokens = tokens\n",
        "  if(len(tokens) > 2):\n",
        "    return tokens[2:]\n",
        "  return tokens"
      ],
      "execution_count": 0,
      "outputs": []
    },
    {
      "cell_type": "markdown",
      "metadata": {
        "id": "IBtDsARn3OAK",
        "colab_type": "text"
      },
      "source": [
        "Apply the lemmatizer"
      ]
    },
    {
      "cell_type": "code",
      "metadata": {
        "id": "8imkUJUyLkoN",
        "colab_type": "code",
        "colab": {}
      },
      "source": [
        "def apply_lemmatizer(tokens):\n",
        "  lemmatizer = WordNetLemmatizer()\n",
        "  filtered_tokens = []\n",
        "  for token in tokens:\n",
        "    filtered_tokens.append(lemmatizer.lemmatize(token))\n",
        "  return filtered_tokens"
      ],
      "execution_count": 0,
      "outputs": []
    },
    {
      "cell_type": "markdown",
      "metadata": {
        "id": "i2TTKzPu3R8d",
        "colab_type": "text"
      },
      "source": [
        "Remove Stopwords"
      ]
    },
    {
      "cell_type": "code",
      "metadata": {
        "id": "s1UBdfeRkLMV",
        "colab_type": "code",
        "colab": {}
      },
      "source": [
        "def remove_stopwords(tokens):\n",
        "  all_stopwords = stopwords.words('english')\n",
        "  filtered_tokens = [word for word in tokens if not word in all_stopwords]\n",
        "  return filtered_tokens"
      ],
      "execution_count": 0,
      "outputs": []
    },
    {
      "cell_type": "markdown",
      "metadata": {
        "id": "frwHn9Gn3fFp",
        "colab_type": "text"
      },
      "source": [
        "Filter the tokens using the above functions"
      ]
    },
    {
      "cell_type": "code",
      "metadata": {
        "id": "hSvpxqIfntx_",
        "colab_type": "code",
        "colab": {}
      },
      "source": [
        "def filter_tokens(tokens):\n",
        "  filtered_tokens = remove_stopwords(tokens)\n",
        "  filtered_tokens = apply_lemmatizer(filtered_tokens)\n",
        "  return filtered_tokens"
      ],
      "execution_count": 0,
      "outputs": []
    },
    {
      "cell_type": "markdown",
      "metadata": {
        "id": "R-bDOO7dPRwB",
        "colab_type": "text"
      },
      "source": [
        "Named Entity Recognition"
      ]
    },
    {
      "cell_type": "code",
      "metadata": {
        "id": "xGD9WQbdPWdD",
        "colab_type": "code",
        "colab": {}
      },
      "source": [
        "def named_entity_recognizer(text):\n",
        "  ne_tree = (ne_chunk(pos_tag(word_tokenize(text))))\n",
        "  iob_tagged = tree2conlltags(ne_tree)\n",
        "  return iob_tagged"
      ],
      "execution_count": 0,
      "outputs": []
    },
    {
      "cell_type": "markdown",
      "metadata": {
        "id": "u6BeBeLkcaIj",
        "colab_type": "text"
      },
      "source": [
        "Filter the Question"
      ]
    },
    {
      "cell_type": "code",
      "metadata": {
        "id": "Q513b9VqcZOi",
        "colab_type": "code",
        "colab": {}
      },
      "source": [
        "def filter_question(question):\n",
        "  tokens = TweetTokenizer().tokenize(question)\n",
        "  new_tokens = skip_first_two_tokens(tokens)\n",
        "\n",
        "  filtered_tokens = filter_tokens(new_tokens)\n",
        "  filtered_question = ' '.join(filtered_tokens)\n",
        "  return filtered_question"
      ],
      "execution_count": 0,
      "outputs": []
    },
    {
      "cell_type": "markdown",
      "metadata": {
        "id": "5uLh7cKV1qds",
        "colab_type": "text"
      },
      "source": [
        "Wikipedia Search"
      ]
    },
    {
      "cell_type": "code",
      "metadata": {
        "id": "4FqiWnN1uqYW",
        "colab_type": "code",
        "colab": {}
      },
      "source": [
        "def wiki_search(question):\n",
        "  \n",
        "  filtered_question = filter_question(question)\n",
        "  answer = (wikipedia.summary(filtered_question, sentences=1))\n",
        "  link = wikipedia.page(filtered_question)\n",
        "\n",
        "  # Providing the link for more information\n",
        "  answer = answer + '\\n For more information follow the link: '+link.url\n",
        "  return answer"
      ],
      "execution_count": 0,
      "outputs": []
    },
    {
      "cell_type": "markdown",
      "metadata": {
        "id": "LDMSXh9O4CQ6",
        "colab_type": "text"
      },
      "source": [
        "Google Search"
      ]
    },
    {
      "cell_type": "code",
      "metadata": {
        "id": "rrWRU49H4C-J",
        "colab_type": "code",
        "colab": {}
      },
      "source": [
        "def google_search(question):\n",
        "  top_results = []\n",
        "\n",
        "  results = google.search(question, 1)\n",
        "  for result in results:\n",
        "    top_results.append(result.description)\n",
        "\n",
        "  search_result = ''.join(top_results)\n",
        "  print(search_result)\n",
        "\n",
        "  # Named Entity Tagging\n",
        "  iob_tagged = named_entity_recognizer(search_result)\n",
        "  # print('iob_tagged: ', iob_tagged)\n",
        "\n",
        "  question_category = categorize_question(question)\n",
        "  if question_category == 'None':\n",
        "      ans = \"Sorry... I don't know the answer!\"\n",
        "  else:\n",
        "      google_answer = []\n",
        "      if question_category == 'Person':\n",
        "          for i in range(len(iob_tagged)):\n",
        "              # If find a PERSON TAG\n",
        "              if iob_tagged[i][2] == 'B-PERSON' or iob_tagged[i][2] == 'I-PERSON':\n",
        "                  # Collect Firstname and Lastname\n",
        "                  google_answer.append(iob_tagged[i][0] + ' ' + iob_tagged[i+1][0])\n",
        "      elif question_category == 'Country':\n",
        "          for i in range(len(iob_tagged)):\n",
        "              # If find a COUNTRY TAG\n",
        "              if iob_tagged[i][2] == 'B-GPE'or iob_tagged[i][2] == 'I-GPE':\n",
        "                  # Collect the name\n",
        "                  google_answer.append(iob_tagged[i][0])\n",
        "      elif question_category == 'Location':\n",
        "          for i in range(len(iob_tagged)):\n",
        "              # If find a LOCATION TAG\n",
        "              if iob_tagged[i][2] == 'B-LOCATION'or iob_tagged[i][2] == 'I-LOCATION':\n",
        "                  # Collect the location name\n",
        "                  google_answer.append(iob_tagged[i][0])\n",
        "      elif question_category == 'Date':\n",
        "          for i in range(len(iob_tagged)):\n",
        "              # If find a DATE TAG\n",
        "              if iob_tagged[i][2] == 'B-DATE'or iob_tagged[i][2] == 'I-DATE':\n",
        "                  # Collect the date\n",
        "                  google_answer.append(iob_tagged[i][0])\n",
        "      if not google_answer:\n",
        "          answer = \"Sorry... I don't know the answer! \"\n",
        "      else:\n",
        "          # Count the Collected Candidates\n",
        "          candidate_counts = collections.Counter(google_answer)\n",
        "\n",
        "          # Collect and Sort 5 Most Frequent Candidates \n",
        "          # in the Google Snippet \n",
        "          most_frequent_candidates = candidate_counts.most_common(5)\n",
        "          print(most_frequent_candidates)\n",
        "\n",
        "          # candidate[0]: text\n",
        "          # candidate[1]: count\n",
        "          candidate_answers =  [candidate[0] for candidate in most_frequent_candidates]\n",
        "\n",
        "          for i in range(len(candidate_answers)):\n",
        "              candidate_answers[i] = 'Candidate Answer '+ str(i+1)+': '+ candidate_answers[i]\n",
        "          \n",
        "          candidate_answers = '\\n'.join(candidate_answers)\n",
        "          answer = candidate_answers\n",
        "  return answer"
      ],
      "execution_count": 0,
      "outputs": []
    },
    {
      "cell_type": "markdown",
      "metadata": {
        "id": "jo8aw3GR1lc6",
        "colab_type": "text"
      },
      "source": [
        "Answer the Question"
      ]
    },
    {
      "cell_type": "code",
      "metadata": {
        "id": "_B0B5kG_vgKF",
        "colab_type": "code",
        "colab": {}
      },
      "source": [
        "def answer_question(question):\n",
        "  q_category = categorize_question(question)\n",
        "  print(\"Question Category: \", q_category)\n",
        "\n",
        "  # If question was asking about 'Definition' or \n",
        "  # 'Location' check try to search on Wikipedia\n",
        "  if q_category == 'Definition' or q_category == 'Location':\n",
        "    print('Wikipedia Search')\n",
        "    answer = wiki_search(question)\n",
        "\n",
        "  # else try to use google snippet\n",
        "  else:\n",
        "    answer = google_search(question)\n",
        "    print('-'*100)\n",
        "    print('Google Search')\n",
        "\n",
        "  return answer"
      ],
      "execution_count": 0,
      "outputs": []
    },
    {
      "cell_type": "markdown",
      "metadata": {
        "id": "6pM7_ylMaIvm",
        "colab_type": "text"
      },
      "source": [
        "Calling 'answer_question' with different input questions"
      ]
    },
    {
      "cell_type": "code",
      "metadata": {
        "id": "QyYrHYUyb7Pk",
        "colab_type": "code",
        "outputId": "a2520681-067d-4168-ec6f-25edd902f5dc",
        "colab": {
          "base_uri": "https://localhost:8080/",
          "height": 843
        }
      },
      "source": [
        "print(answer_question('Who is the president of United States?'))\n",
        "print('='*200)\n",
        "print(answer_question('Who is the president of Iran?'))\n",
        "print('='*200)\n",
        "print(answer_question('Where is Tehran?'))\n",
        "print('='*200)\n",
        "print(answer_question('Where are the most populated cities in world?'))\n",
        "print('='*200)\n",
        "print(answer_question('What is the name of Canada\\'s capital city?'))\n",
        "print('='*200)\n",
        "print(answer_question('Who directed Gone with the wind?'))\n",
        "print('='*200)"
      ],
      "execution_count": 0,
      "outputs": [
        {
          "output_type": "stream",
          "text": [
            "Question Category:  Person\n",
            "Donald Trump is the 45th and current president of the United States. He assumed office on January 20, 2017.Grover Cleveland served two non-consecutive terms in office (the only president to have done so) and is therefore counted as the 22nd and 24th president of the United States; the 45th and current president is Donald Trump (since January 20, 2017).Which President served as a lieutenant colonel in the Spanish-American war? Who was the first Democrat elected after the Civil War? Who introduced Social ...The President is both the head of state and head of government of the United States of America, and Commander-in-Chief of the armed forces. Under Article II of ...As the head of the government of the United States, the president is arguably the most powerful government official in the world. The president is elected to a ...The Constitution succinctly defines presidential functions, powers, and responsibilities. The president's chief duty is to make sure that the laws are faithfully ...Dec 3, 2019 - The 45th and current president of the United States is Donald J. Trump. He was sworn in on January 20, 2017. Requirements to Hold Office.Chronological List of Presidents, First Ladies, and Vice Presidents of the United States. Selected Images From the Collections of the Library of Congress.Places where the President and Congress meet: Presidential Vetoes · State of the Union · Electoral College Fast Facts · Impeachment · Joint Meetings, Joint ...\n",
            "[('Donald Trump', 2), ('Trump (', 1), ('Social ...', 1), ('Article II', 1), ('II of', 1)]\n",
            "----------------------------------------------------------------------------------------------------\n",
            "Google Search\n",
            "Candidate Answer 1: Donald Trump\n",
            "Candidate Answer 2: Trump (\n",
            "Candidate Answer 3: Social ...\n",
            "Candidate Answer 4: Article II\n",
            "Candidate Answer 5: II of\n",
            "========================================================================================================================================================================================================\n",
            "Question Category:  Person\n",
            "The current President of Iran is Hassan Rouhani, assumed office on 3 August 2013, after the 2013 Iranian presidential election. He succeeded Mahmoud Ahmadinejad, who served 8 years in office from 2005 to 2013. Rouhani won re-election in the 2017 presidential election.Therefore, on the order of President Khatami with the confirmation of Ali Khamenei, Hassan Rouhani took charge of Iran's nuclear case on 6 October 2003.Many believe he was not the first choice of the Supreme Leader, Ayatollah Ali Khamenei. But seeing that he might offer a way to end the nuclear confrontation with ...President talked with governor generals and health officials of Qazvin, East Azerbaijan, Alborz and Yazd provinces through videoconferencing and received ...Feb 27, 2020 - Masoumeh Ebtekar, President Hassan Rouhani's deputy for women's affairs and the highest-ranking woman in the government, was at least ...Mahmoud Ahmadinejad, Iranian political leader who served as president of Iran (2005–13). His tenure was notable for his unsuccessful power struggle with ...At the top of Iran's power structure is the Supreme Leader, Ayatollah Ali Khamenei, who succeeded ... The president is the second highest ranking official in Iran.Iran has reacted with fury to the killing of its top military commander Qassem ... Iranian President Hassan Rouhani wrote in a tweet early Friday that his country ...Hassan RouhaniVerified account · @HassanRouhani. President of the Islamic Republic of Iran | Persian @Rouhani_ir. Tehran ...\n",
            "[('Hassan Rouhani', 4), ('Ali Khamenei', 3), ('Mahmoud Ahmadinejad', 2), ('Ahmadinejad ,', 2), ('Khamenei ,', 2)]\n",
            "----------------------------------------------------------------------------------------------------\n",
            "Google Search\n",
            "Candidate Answer 1: Hassan Rouhani\n",
            "Candidate Answer 2: Ali Khamenei\n",
            "Candidate Answer 3: Mahmoud Ahmadinejad\n",
            "Candidate Answer 4: Ahmadinejad ,\n",
            "Candidate Answer 5: Khamenei ,\n",
            "========================================================================================================================================================================================================\n",
            "Question Category:  Location\n",
            "Wikipedia Search\n",
            "Tehran or Teheran (; Persian: تهران‎ Ťehrân [tehˈɾɒːn] (listen)) is the capital of Iran and Tehran Province.\n",
            " For more information follow the link: https://en.wikipedia.org/wiki/Tehran\n",
            "========================================================================================================================================================================================================\n",
            "Question Category:  Location\n",
            "Wikipedia Search\n",
            "This is a list of cities worldwide by population density.\n",
            " For more information follow the link: https://en.wikipedia.org/wiki/List_of_cities_proper_by_population_density\n",
            "========================================================================================================================================================================================================\n",
            "Question Category:  Definition\n",
            "Wikipedia Search\n",
            "A capital or capital city is the municipality exercising primary status in a country, state, province, or other administrative region, usually as its seat of government.\n",
            " For more information follow the link: https://en.wikipedia.org/wiki/Capital_city\n",
            "========================================================================================================================================================================================================\n",
            "Question Category:  Person\n",
            "Gone with the Wind is a 1939 American epic historical romance film adapted from the 1936 novel by Margaret Mitchell. The film was produced by David O. Selznick of Selznick International Pictures and directed by Victor Fleming.Directed by Victor Fleming, George Cukor, Sam Wood. With Clark Gable, Vivien Leigh, Thomas Mitchell, Barbara O'Neil. A manipulative woman and a roguish ...Gone with the Wind's original director was George Cukor, who had spent more ... Victor Fleming, who had ...Almost equally well known within the trade are the director, Victor Fleming; the musical composer, Max Steiner, and the scenarist, the late Sidney Howard, who is ...Gone with the Wind, American epic film (1939) that was one of the best known and most successful of all time.Filmed and presented on a scale not seen in modern productions, Gone with the Wind is, if not the definitive Hollywood film, then certainly near the top of the list.Feb 1, 2019 - The film's original director, who had spent two grueling years in pre-production, was fired three weeks into filming and replaced by Victor Fleming, ...May 25, 2009 - Victor Fleming with Vivien Leigh and Clark Gable on the set of Gone ... had been shooting “Gone with the Wind” for about three weeks. ... In Cukor's place, Selznick hired Victor Fleming, who was then directing the other big ...Apr 24, 2019 - Gone with the Wind: directed by... Victor Fleming? With Gone with the Wind and The Wizard of Oz to his name in 1939 alone, Victor Fleming was ...Gone With The Wind (1939) is often considered the most beloved, enduring and ... Although almost half of the film was directed by Victor Fleming (45%) - who ...\n",
            "[('Victor Fleming', 8), ('Fleming ,', 4), ('George Cukor', 2), ('Cukor ,', 2), ('Clark Gable', 2)]\n",
            "----------------------------------------------------------------------------------------------------\n",
            "Google Search\n",
            "Candidate Answer 1: Victor Fleming\n",
            "Candidate Answer 2: Fleming ,\n",
            "Candidate Answer 3: George Cukor\n",
            "Candidate Answer 4: Cukor ,\n",
            "Candidate Answer 5: Clark Gable\n",
            "========================================================================================================================================================================================================\n"
          ],
          "name": "stdout"
        }
      ]
    },
    {
      "cell_type": "code",
      "metadata": {
        "id": "mJUi5P_VTq0n",
        "colab_type": "code",
        "outputId": "8f5756d3-1388-4156-edb1-bed5d818fe21",
        "colab": {
          "base_uri": "https://localhost:8080/",
          "height": 222
        }
      },
      "source": [
        "#SQUAD Dataset performance evaluation\n",
        "answer1 = answer_question('What country did the Normans invade in 1169?') \n",
        "print('Expected Answer - Ireland')\n",
        "print('Predicted Answer - ', answer1)"
      ],
      "execution_count": 0,
      "outputs": [
        {
          "output_type": "stream",
          "text": [
            "Question Category:  Country\n",
            "Jump to Short-term impact of the invasion - The Cambro-Norman invasion resulted in the ... and Munster, where there was a larger Norman presence.The spirit of conquest was in the air. Every landless man was looking to make his fortune. Every baron desired, like his viking forefathers, a land where he could ...May 1, 2019 - Invasion on May 1st, 1169, constituted one of the most significant events in Irish history. ... the successor to Adrian IV, for putting manners on the “barbarous nation” of Ireland. The most ... What did the Normans ever do for us?Historians are agreed that English and French involvement in Ireland was an ... Historians are divided as to what to call the people who came to Ireland in 1169. ... Mac Murchada then travelled to Bristol, on the west coast of England, where he ...Feb 17, 2011 - Simon Schama unravels the story of who did what to whom, and why. ... Background to invasion; The Anglo-Normans arrive in Ireland, 1169 on.Dec 1, 2008 - The Norman invasion of Ireland was a Norman military expedition to Ireland that ... 1 Dermot MacMurrough, Strongbow and the invasion of 1169 ... of neighboring County Roscommon (their sixteenth-century seat was near ...Nov 22, 2018 - 1169: “May 1 – The Norman invasion of Ireland begins.[2] Among those arriving is Cambro-Norman knight (and vassal of Henry II of England) ...May 1, 2017 - He was instrumental in securing Norman control of Wexford in 1169, the ... The invasion was sanctioned by King Henry II of England and Pope ...The reason the Normans first came to Ireland was in fact due to this fighting. Dermot MacMurrough. Courtesy of Wicklow County Libraries. In 1169, a group of Norman soldiers and knights arrived in Wexford to help the Irish king of Leinster, ...\n",
            "[('Ireland', 8), ('Norman', 5), ('England', 3), ('Irish', 2), ('Normans', 2)]\n",
            "----------------------------------------------------------------------------------------------------\n",
            "Google Search\n",
            "Expected Answer - Ireland\n",
            "Predicted Answer -  Candidate Answer 1: Ireland\n",
            "Candidate Answer 2: Norman\n",
            "Candidate Answer 3: England\n",
            "Candidate Answer 4: Irish\n",
            "Candidate Answer 5: Normans\n"
          ],
          "name": "stdout"
        }
      ]
    },
    {
      "cell_type": "code",
      "metadata": {
        "id": "WhHLA093Ufnb",
        "colab_type": "code",
        "outputId": "d8dc4829-9676-4694-8403-2fd96a92f950",
        "colab": {
          "base_uri": "https://localhost:8080/",
          "height": 440
        }
      },
      "source": [
        "print(answer_question('Where are Jersey and Guernsey?')) #Channel Islands\n",
        "print(answer_question('Who developed the first commercial steam powered device?')) #Thomas Savery\n",
        "print(answer_question('Who was the first European to travel the Amazon River?')) #Francisco de Orellana"
      ],
      "execution_count": 0,
      "outputs": [
        {
          "output_type": "stream",
          "text": [
            "Question Category:  Location\n",
            "Wikipedia Search\n",
            "Guernsey ( (listen); Guernésiais: Guernési) is an island in the English Channel off the coast of Normandy.\n",
            " For more information follow the link: https://en.wikipedia.org/wiki/Guernsey\n",
            "Question Category:  Person\n",
            "Mar 19, 2014 - In 1698, Thomas Savery, an engineer and inventor, patented a machine that could effectively draw water from flooded mines using steam pressure. Savery used principles set forth by Denis Papin, a French-born British physicist who invented the pressure cooker.The first commercial steam-powered device was a water pump, developed in 1698 by Thomas Savery.Jump to Development of the commercial steam engine - Gaspar Schott was the first to describe the ... He installed his steam-powered device on ...Steam engine history dates back to the 1st century AD when the “aeolipile” was described by the ... These were either small steam jacks or escapement devices.It continued to be manufactured until the late 18th century. The first commercially successful engine that it could generate power and transmit it to a machine was the atmospheric engine, invented by Thomas Newcomen around 1712. It was an improvement over Savery's steam pump, using a piston as proposed by Papin.The first commercial steam-powered device was a water pump developed in 1698 by Thomas Savery, who demonstrated it to the Royal Society a year later.One of the most significant industrial challenges of the 1700's was the removal of water ... Now, this might seem to have very little to do with modern steam-powered ... Also, the stories of the inventors and their inventions offer insight into the ... piston stroke, in agreement with the pumps used in the equipment at the time, and ...Jan 21, 2020 - From that point, the commercial steam engine was then made possible ... other inventions was an odometer for ships, a device that measured ...The steam engine was one of the most important inventions of the Industrial ... The movement of the piston was then used to power a machine or turn a wheel.The first crude steam powered machine was built by Thomas Savery, of England, in 1698. Savery built his machine to help pump water out of coal mines.\n",
            "[('Thomas Savery', 3), ('Savery ,', 3), ('Savery used', 1), ('Denis Papin', 1), ('Papin ,', 1)]\n",
            "----------------------------------------------------------------------------------------------------\n",
            "Google Search\n",
            "Candidate Answer 1: Thomas Savery\n",
            "Candidate Answer 2: Savery ,\n",
            "Candidate Answer 3: Savery used\n",
            "Candidate Answer 4: Denis Papin\n",
            "Candidate Answer 5: Papin ,\n",
            "Question Category:  Person\n",
            "Francisco de Orellana Bejarano Pizarro y Torres de Altamirano was a Spanish explorer and conquistador. He completed the first known navigation of the entire length of the Amazon River, ... He traveled to the New World (probably in 1527). ... that the civilization was later devastated by the spread of diseases from Europe, ...1637–1639 – Pedro Teixeira leads the first European expedition up the Amazon from Belém to Quito, arriving unexpected.Francisco de Orellana, (born c. 1490, Trujillo, Extremadura, Castile [Spain]—died c. 1546, Amazon River), Spanish soldier and first European explorer of the ...May 13, 2015 - Between 1913-1914, Roosevelt along with Candido Rondo and a small expedition were to be the first to travel the 1,000 mile long 'River of Doubt ...May 15, 2017 - The magnificent view of the Amazon rainforest in Brazil, South America. ... The first European to ever set foot in the Amazon was Francisco de ... wow, i love this place as far as i know about it...sure i would visit here one day.Jul 29, 2019 - Known For: Spanish conquistador who discovered the Amazon River; Born: ... race of warrior women—had been legendary in Europe for centuries. ... he led the first expedition to travel the Amazon River from its roots in the ...Francisco de Orellana was a Spanish explorer and conquistador. He completed the first known navigation of the length of the Amazon River, ... to sail the length of the Amazon, arriving at the river's mouth on 24 August 1542. ... He participated in the Spanish conquest of Peru and is credited as the first European discoverer.Francisco de Orellana was a 16th-century Spanish explorer. He was the first European to sail down the Amazon river. He was born around 1511 in Trujillo, ...Amazon Rainforest in the morning The first European to enter the Amazon was Francisco de Orellana. He was a cousin to Francisco Pizarro who was a famous ...\n",
            "[('Francisco de', 3), ('Orellana was', 2), ('Orellana Bejarano', 1), ('Bejarano Pizarro', 1), ('Pizarro y', 1)]\n",
            "----------------------------------------------------------------------------------------------------\n",
            "Google Search\n",
            "Candidate Answer 1: Francisco de\n",
            "Candidate Answer 2: Orellana was\n",
            "Candidate Answer 3: Orellana Bejarano\n",
            "Candidate Answer 4: Bejarano Pizarro\n",
            "Candidate Answer 5: Pizarro y\n"
          ],
          "name": "stdout"
        }
      ]
    },
    {
      "cell_type": "code",
      "metadata": {
        "id": "XwQMihKxFB9T",
        "colab_type": "code",
        "colab": {}
      },
      "source": [
        ""
      ],
      "execution_count": 0,
      "outputs": []
    }
  ]
}